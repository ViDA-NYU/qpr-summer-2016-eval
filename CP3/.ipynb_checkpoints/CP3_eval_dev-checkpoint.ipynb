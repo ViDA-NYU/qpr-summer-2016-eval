{
 "cells": [
  {
   "cell_type": "code",
   "execution_count": 24,
   "metadata": {
    "collapsed": false
   },
   "outputs": [],
   "source": [
    "import matplotlib.pyplot as plt\n",
    "from sklearn.metrics import roc_curve, roc_auc_score\n",
    "import sys\n",
    "import tldextract\n",
    "import json"
   ]
  },
  {
   "cell_type": "code",
   "execution_count": 11,
   "metadata": {
    "collapsed": true
   },
   "outputs": [],
   "source": [
    "# how to use: python roc-test.py ht_evaluation_UPDATED your_group-s_cool_data_file.txt\n",
    "# do not edit - eval data\n",
    "gt_outputs = open('ground_truth_sample_CP3.json', 'r')\n",
    "gt_sites = [line.rstrip('\\n') for line in gt_outputs]\n",
    "gt_domains = set([tldextract.extract(url).registered_domain for url in gt_sites])\n",
    "gt_urls = set([url.split(\"://\")[-1] for url in gt_sites])"
   ]
  },
  {
   "cell_type": "code",
   "execution_count": 43,
   "metadata": {
    "collapsed": true
   },
   "outputs": [],
   "source": [
    "sub_id = []\n",
    "sub_phones = []\n",
    "sub_scores = []\n",
    "sub_outputs = open('submission_sample_CP3.json', 'r')"
   ]
  },
  {
   "cell_type": "code",
   "execution_count": 44,
   "metadata": {
    "collapsed": false
   },
   "outputs": [
    {
     "name": "stdout",
     "output_type": "stream",
     "text": [
      "{\"content_type\": \"text/html; charset=ISO-8859-1\"}\n"
     ]
    }
   ],
   "source": [
    "for line in sub_outputs:\n",
    "    print line\n",
    "    entry = json.loads(line)\n",
    "sub_outputs.close()"
   ]
  },
  {
   "cell_type": "code",
   "execution_count": null,
   "metadata": {
    "collapsed": false
   },
   "outputs": [],
   "source": [
    "# ids should be well-ordered, but just in case...\n",
    "# note that if you did not include ids but instead only phone numbers in your file, the below needs modification\n",
    "if any([a != b for a, b in zip(sub_id, gt_id)]):\n",
    "    print 'submission ids do not match ground truth ids, please check submission data'\n",
    "else:\n",
    "    fpr ,tpr, thresholds = roc_curve(gt_scores, sub_scores)\n",
    "    auc = roc_auc_score(gt_scores, sub_scores)\n",
    "    print 'ROC-AUC is:', auc\n",
    "    print 'ROC curve plotting'\n",
    "    plt.plot(fpr, tpr, '.-')\n",
    "    plt.xlim(-0.01, 1.01)\n",
    "    plt.ylim(-0.01, 1.01)\n",
    "    plt.show()    "
   ]
  },
  {
   "cell_type": "code",
   "execution_count": 36,
   "metadata": {
    "collapsed": false
   },
   "outputs": [
    {
     "data": {
      "text/plain": [
       "[u'new', u'content_type']"
      ]
     },
     "execution_count": 36,
     "metadata": {},
     "output_type": "execute_result"
    }
   ],
   "source": [
    "entry.keys()"
   ]
  },
  {
   "cell_type": "code",
   "execution_count": null,
   "metadata": {
    "collapsed": true
   },
   "outputs": [],
   "source": []
  }
 ],
 "metadata": {
  "kernelspec": {
   "display_name": "Python 2",
   "language": "python",
   "name": "python2"
  },
  "language_info": {
   "codemirror_mode": {
    "name": "ipython",
    "version": 2
   },
   "file_extension": ".py",
   "mimetype": "text/x-python",
   "name": "python",
   "nbconvert_exporter": "python",
   "pygments_lexer": "ipython2",
   "version": "2.7.11"
  }
 },
 "nbformat": 4,
 "nbformat_minor": 0
}
