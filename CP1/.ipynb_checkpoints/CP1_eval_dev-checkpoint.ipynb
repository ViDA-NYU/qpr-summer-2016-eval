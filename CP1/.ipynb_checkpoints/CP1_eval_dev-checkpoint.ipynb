{
 "cells": [
  {
   "cell_type": "code",
   "execution_count": 1,
   "metadata": {
    "collapsed": true
   },
   "outputs": [],
   "source": [
    "import matplotlib.pyplot as plt\n",
    "from sklearn.metrics import roc_curve, roc_auc_score\n",
    "import sys\n",
    "import json"
   ]
  },
  {
   "cell_type": "code",
   "execution_count": 2,
   "metadata": {
    "collapsed": true
   },
   "outputs": [],
   "source": [
    "# how to use: python roc-test.py ht_evaluation_UPDATED your_group-s_cool_data_file.txt\n",
    "# do not edit - eval data\n",
    "\n",
    "gt_id = []\n",
    "gt_phones = []\n",
    "gt_scores = []\n",
    "gt_outputs = open('ground_truth_sample_CP1.json', 'r')"
   ]
  },
  {
   "cell_type": "code",
   "execution_count": 3,
   "metadata": {
    "collapsed": false
   },
   "outputs": [],
   "source": [
    "for line in gt_outputs:\n",
    "    gt_id.append(json.loads(line)['cdr_id'])\n",
    "    gt_phones.append(json.loads(line)[\"phone\"])\n",
    "    gt_scores.append(json.loads(line)['class'])\n",
    "gt_outputs.close()"
   ]
  },
  {
   "cell_type": "code",
   "execution_count": 11,
   "metadata": {
    "collapsed": true
   },
   "outputs": [],
   "source": [
    "sub_id = []\n",
    "sub_phones = []\n",
    "sub_scores = []\n",
    "sub_outputs = open('submission_sample_CP1.json', 'r')"
   ]
  },
  {
   "cell_type": "code",
   "execution_count": 12,
   "metadata": {
    "collapsed": true
   },
   "outputs": [],
   "source": [
    "for line in sub_outputs:\n",
    "    line = json.loads(line)\n",
    "    sub_phones.append(line[\"phone\"])\n",
    "    sub_id.append(line[\"cdr_id\"])\n",
    "    sub_scores.append(line[\"score\"])\n",
    "sub_outputs.close()"
   ]
  },
  {
   "cell_type": "code",
   "execution_count": 13,
   "metadata": {
    "collapsed": false
   },
   "outputs": [
    {
     "name": "stdout",
     "output_type": "stream",
     "text": [
      "ROC-AUC is: 0.905753968254\n",
      "ROC curve plotting\n"
     ]
    }
   ],
   "source": [
    "# ids should be well-ordered, but just in case...\n",
    "# note that if you did not include ids but instead only phone numbers in your file, the below needs modification\n",
    "if any([a != b for a, b in zip(sub_id, gt_id)]):\n",
    "    print 'submission ids do not match ground truth ids, please check submission data'\n",
    "else:\n",
    "    fpr ,tpr, thresholds = roc_curve(gt_scores, sub_scores)\n",
    "    auc = roc_auc_score(gt_scores, sub_scores)\n",
    "    print 'ROC-AUC is:', auc\n",
    "    print 'ROC curve plotting'\n",
    "    plt.plot(fpr, tpr, '.-')\n",
    "    plt.xlim(-0.01, 1.01)\n",
    "    plt.ylim(-0.01, 1.01)\n",
    "    plt.show()    "
   ]
  },
  {
   "cell_type": "code",
   "execution_count": null,
   "metadata": {
    "collapsed": true
   },
   "outputs": [],
   "source": []
  }
 ],
 "metadata": {
  "kernelspec": {
   "display_name": "Python 2",
   "language": "python",
   "name": "python2"
  },
  "language_info": {
   "codemirror_mode": {
    "name": "ipython",
    "version": 2
   },
   "file_extension": ".py",
   "mimetype": "text/x-python",
   "name": "python",
   "nbconvert_exporter": "python",
   "pygments_lexer": "ipython2",
   "version": "2.7.11"
  }
 },
 "nbformat": 4,
 "nbformat_minor": 0
}
