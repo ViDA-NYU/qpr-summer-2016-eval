{
 "cells": [
  {
   "cell_type": "code",
   "execution_count": 1,
   "metadata": {
    "collapsed": false
   },
   "outputs": [],
   "source": [
    "import sys\n",
    "import tldextract\n",
    "import json"
   ]
  },
  {
   "cell_type": "code",
   "execution_count": 9,
   "metadata": {
    "collapsed": true
   },
   "outputs": [],
   "source": [
    "# how to use: python roc-test.py ht_evaluation_UPDATED your_group-s_cool_data_file.txt\n",
    "gt_outputs = open('ground_truth_sample_CP3.json', 'r')\n",
    "gt_sites = [line.rstrip('\\n') for line in gt_outputs]\n",
    "gt_domains = set([tldextract.extract(url).registered_domain for url in gt_sites])\n",
    "gt_urls = set([url.split(\"://\")[-1] for url in gt_sites])"
   ]
  },
  {
   "cell_type": "code",
   "execution_count": 10,
   "metadata": {
    "collapsed": true
   },
   "outputs": [],
   "source": [
    "sub_outputs = open('submission_sample_CP3.json', 'r')\n",
    "sub_docs = [json.loads(line) for line in sub_outputs]"
   ]
  },
  {
   "cell_type": "code",
   "execution_count": 11,
   "metadata": {
    "collapsed": false
   },
   "outputs": [],
   "source": [
    "sub_sites =[doc['url'] for doc in sub_docs]\n",
    "sub_domains = set([tldextract.extract(url).registered_domain for url in sub_sites])\n",
    "sub_urls = set([url.split(\"://\")[-1] for url in sub_sites])"
   ]
  },
  {
   "cell_type": "code",
   "execution_count": 12,
   "metadata": {
    "collapsed": false
   },
   "outputs": [
    {
     "name": "stdout",
     "output_type": "stream",
     "text": [
      "\n",
      "Host Names\n",
      "Ground truth Host Names:\t4\n",
      "HostName Overlap:\t4\n",
      "Recall:\t100.0\n"
     ]
    }
   ],
   "source": [
    "domains = gt_domains & sub_domains\n",
    "print \"\\nHost Names\"\n",
    "print \"Ground truth Host Names:\\t\", len(gt_domains)\n",
    "print \"HostName Overlap:\\t\", len(domains)\n",
    "print \"Recall:\\t\", (len(domains) * 100)/float(len(gt_domains))"
   ]
  },
  {
   "cell_type": "code",
   "execution_count": 13,
   "metadata": {
    "collapsed": false
   },
   "outputs": [
    {
     "name": "stdout",
     "output_type": "stream",
     "text": [
      "\n",
      "URLs\n",
      "Ground truth Sample Size:\t27\n",
      "Overlap:\t13\n",
      "Recall:\t48.1481481481\n"
     ]
    }
   ],
   "source": [
    "results = gt_urls & sub_urls\n",
    "print \"\\nURLs\"\n",
    "print \"Ground truth Sample Size:\\t\", len(gt_urls)\n",
    "print \"Overlap:\\t\", len(results)\n",
    "print \"Recall:\\t\", (len(results) * 100)/float(len(gt_urls))"
   ]
  },
  {
   "cell_type": "code",
   "execution_count": 14,
   "metadata": {
    "collapsed": false
   },
   "outputs": [
    {
     "data": {
      "text/plain": [
       "{'backpage.com', 'theeroticreview.com', 'twitmail.com', 'yelp.com'}"
      ]
     },
     "execution_count": 14,
     "metadata": {},
     "output_type": "execute_result"
    }
   ],
   "source": [
    "gt_domains"
   ]
  },
  {
   "cell_type": "code",
   "execution_count": null,
   "metadata": {
    "collapsed": true
   },
   "outputs": [],
   "source": []
  }
 ],
 "metadata": {
  "kernelspec": {
   "display_name": "Python 2",
   "language": "python",
   "name": "python2"
  },
  "language_info": {
   "codemirror_mode": {
    "name": "ipython",
    "version": 2
   },
   "file_extension": ".py",
   "mimetype": "text/x-python",
   "name": "python",
   "nbconvert_exporter": "python",
   "pygments_lexer": "ipython2",
   "version": "2.7.11"
  }
 },
 "nbformat": 4,
 "nbformat_minor": 0
}
