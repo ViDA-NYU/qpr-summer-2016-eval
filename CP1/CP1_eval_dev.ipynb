{
 "cells": [
  {
   "cell_type": "code",
   "execution_count": 1,
   "metadata": {
    "collapsed": true
   },
   "outputs": [],
   "source": [
    "import matplotlib.pyplot as plt\n",
    "from sklearn.metrics import roc_curve, roc_auc_score\n",
    "import sys\n",
    "import json"
   ]
  },
  {
   "cell_type": "code",
   "execution_count": 2,
   "metadata": {
    "collapsed": true
   },
   "outputs": [],
   "source": [
    "# how to use: python roc-test.py ht_evaluation_UPDATED your_group-s_cool_data_file.txt\n",
    "# do not edit - eval data\n",
    "\n",
    "eval_id = []\n",
    "eval_phones = []\n",
    "eval_scores = []\n",
    "eval_outputs = open('sample_ground_truth.json', 'r')"
   ]
  },
  {
   "cell_type": "code",
   "execution_count": 3,
   "metadata": {
    "collapsed": false
   },
   "outputs": [],
   "source": [
    "for line in eval_outputs:\n",
    "    eval_id.append(json.loads(line)['cdr_id'])\n",
    "    eval_phones.append(json.loads(line)[\"phone\"])\n",
    "    score = json.loads(line)['class']\n",
    "    eval_scores.append(score)\n",
    "eval_outputs.close()"
   ]
  },
  {
   "cell_type": "code",
   "execution_count": 11,
   "metadata": {
    "collapsed": true
   },
   "outputs": [],
   "source": [
    "group_id = []\n",
    "group_phones = []\n",
    "group_scores = []\n",
    "group_outputs = open('sample_submission.json', 'r')"
   ]
  },
  {
   "cell_type": "code",
   "execution_count": 12,
   "metadata": {
    "collapsed": true
   },
   "outputs": [],
   "source": [
    "for line in group_outputs:\n",
    "    line = json.loads(line)\n",
    "    group_phones.append(line[\"phone\"])\n",
    "    group_id.append(line[\"cdr_id\"])\n",
    "    group_scores.append(line[\"score\"])\n",
    "group_outputs.close()"
   ]
  },
  {
   "cell_type": "code",
   "execution_count": 13,
   "metadata": {
    "collapsed": false
   },
   "outputs": [
    {
     "name": "stdout",
     "output_type": "stream",
     "text": [
      "ROC-AUC is: 0.905753968254\n",
      "ROC curve plotting\n"
     ]
    }
   ],
   "source": [
    "# ids should be well-ordered, but just in case...\n",
    "# note that if you did not include ids but instead only phone numbers in your file, the below needs modification\n",
    "if any([a != b for a, b in zip(group_id, eval_id)]):\n",
    "    print 'submission ids do not match ground truth ids, please check submission data'\n",
    "else:\n",
    "    fpr ,tpr, thresholds = roc_curve(eval_scores, group_scores)\n",
    "    auc = roc_auc_score(eval_scores, group_scores)\n",
    "    print 'ROC-AUC is:', auc\n",
    "    print 'ROC curve plotting'\n",
    "    plt.plot(fpr, tpr, '.-')\n",
    "    plt.xlim(-0.01, 1.01)\n",
    "    plt.ylim(-0.01, 1.01)\n",
    "    plt.show()    "
   ]
  },
  {
   "cell_type": "code",
   "execution_count": null,
   "metadata": {
    "collapsed": true
   },
   "outputs": [],
   "source": []
  }
 ],
 "metadata": {
  "kernelspec": {
   "display_name": "Python 2",
   "language": "python",
   "name": "python2"
  },
  "language_info": {
   "codemirror_mode": {
    "name": "ipython",
    "version": 2
   },
   "file_extension": ".py",
   "mimetype": "text/x-python",
   "name": "python",
   "nbconvert_exporter": "python",
   "pygments_lexer": "ipython2",
   "version": "2.7.11"
  }
 },
 "nbformat": 4,
 "nbformat_minor": 0
}
